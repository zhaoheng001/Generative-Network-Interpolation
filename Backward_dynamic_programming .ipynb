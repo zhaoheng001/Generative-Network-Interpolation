{
  "nbformat": 4,
  "nbformat_minor": 0,
  "metadata": {
    "colab": {
      "name": "Untitled6.ipynb",
      "provenance": [],
      "collapsed_sections": [],
      "authorship_tag": "ABX9TyOJiYHY2d6SNDZ/hezwUgLD",
      "include_colab_link": true
    },
    "kernelspec": {
      "name": "python3",
      "display_name": "Python 3"
    }
  },
  "cells": [
    {
      "cell_type": "markdown",
      "metadata": {
        "id": "view-in-github",
        "colab_type": "text"
      },
      "source": [
        "<a href=\"https://colab.research.google.com/github/zhaoheng001/colabtogithubdemo/blob/master/Backward_dynamic_programming%20.ipynb\" target=\"_parent\"><img src=\"https://colab.research.google.com/assets/colab-badge.svg\" alt=\"Open In Colab\"/></a>"
      ]
    },
    {
      "cell_type": "code",
      "metadata": {
        "id": "0JPCTI-Ve3xN",
        "colab_type": "code",
        "outputId": "e7134dde-de6f-4f68-d7b6-26b0e95e8cdf",
        "colab": {
          "base_uri": "https://localhost:8080/",
          "height": 646
        }
      },
      "source": [
        "import math\n",
        "import numpy as np\n",
        "\n",
        "\n",
        "Prob_fail = np.array([[0.80,0.75,0.90], \n",
        "              [0.70,0.70,0.70], \n",
        "              [0.65,0.67,0.60], \n",
        "              [0.62,0.65,0.55], \n",
        "              [0.60,0.62,0.50]])\n",
        "assign_time = np.zeros(3)\n",
        "T = 4\n",
        "\n",
        "#stage1\n",
        "p3 = Prob_fail[:, 2]\n",
        "p2 = Prob_fail[:, 1]\n",
        "p1 = Prob_fail[:, 0]\n",
        "\n",
        "#stage2\n",
        "f3 = np.zeros(T+1)\n",
        "f3 = p3\n",
        "f2 = np.zeros(T+1)\n",
        "f2_index = np.zeros(T+1)\n",
        "f1 = np.zeros(0)\n",
        "f1_index = np.zeros(0)\n",
        "\n",
        "f2_index_0 = np.zeros(T+1)\n",
        "for i in range(T+1):\n",
        "  temp1 = np.zeros(i+1)\n",
        "  for t1 in range(i+1):\n",
        "    temp = p2[t1]*f3[i-t1]\n",
        "    temp1[t1] = temp\n",
        "  f2[i] = min(temp1)\n",
        "  f2_index[i] = np.argmin(temp1)\n",
        "  f2_index_0[i] = i - f2_index[i]\n",
        "  print('\\n')\n",
        "  print(f2[i])\n",
        "  print(f2_index[i])\n",
        "print(f2_index_0)\n",
        "print(f2_index)\n",
        "print('\\n')\n",
        "\n",
        "#stage3\n",
        "temp2 = np.zeros(T+1)\n",
        "for j in range(T+1):\n",
        "  temp2[j] = p1[j]*f2[T-j]\n",
        "  #print(temp2[j]) \n",
        "f1 = min(temp2)\n",
        "f1_index = np.argmin(temp2)\n",
        "\n",
        "\n",
        "assign_time[0] = f1_index\n",
        "assign_time[1] = f2_index[T-f1_index]\n",
        "assign_time[2] = f2_index_0[T-f1_index] - assign_time[1]\n",
        "print('\\n')\n",
        "print(f1)\n",
        "print(f1_index)\n",
        "print(assign_time)\n",
        "\n",
        "\n",
        "\n",
        "print('\\n')\n",
        "print('\\n')\n",
        "\n",
        "print(\"Optimal policy:\")\n",
        "print(assign_time[0], \"day on course 1\")\n",
        "print(assign_time[1], \"day on course 2\")\n",
        "print(assign_time[2], \"day on course 3\")\n",
        "\n"
      ],
      "execution_count": 0,
      "outputs": [
        {
          "output_type": "stream",
          "text": [
            "\n",
            "\n",
            "0.675\n",
            "0.0\n",
            "\n",
            "\n",
            "0.5249999999999999\n",
            "0.0\n",
            "\n",
            "\n",
            "0.44999999999999996\n",
            "0.0\n",
            "\n",
            "\n",
            "0.41250000000000003\n",
            "0.0\n",
            "\n",
            "\n",
            "0.375\n",
            "0.0\n",
            "[0. 1. 2. 3. 4.]\n",
            "[0. 0. 0. 0. 0.]\n",
            "\n",
            "\n",
            "\n",
            "\n",
            "0.28875\n",
            "1\n",
            "[1. 0. 3.]\n",
            "\n",
            "\n",
            "\n",
            "\n",
            "Optimal policy:\n",
            "1.0 day on course 1\n",
            "0.0 day on course 2\n",
            "3.0 day on course 3\n"
          ],
          "name": "stdout"
        }
      ]
    }
  ]
}
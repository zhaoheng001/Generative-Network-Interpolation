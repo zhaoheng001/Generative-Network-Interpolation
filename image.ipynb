{
  "nbformat": 4,
  "nbformat_minor": 0,
  "metadata": {
    "colab": {
      "name": "image.ipynb",
      "version": "0.3.2",
      "provenance": [],
      "include_colab_link": true
    },
    "kernelspec": {
      "name": "python3",
      "display_name": "Python 3"
    },
    "accelerator": "GPU"
  },
  "cells": [
    {
      "cell_type": "markdown",
      "metadata": {
        "id": "view-in-github",
        "colab_type": "text"
      },
      "source": [
        "<a href=\"https://colab.research.google.com/github/zhaoheng001/colabtogithubdemo/blob/master/image.ipynb\" target=\"_parent\"><img src=\"https://colab.research.google.com/assets/colab-badge.svg\" alt=\"Open In Colab\"/></a>"
      ]
    },
    {
      "metadata": {
        "id": "gLCgzHQQ_xot",
        "colab_type": "code",
        "colab": {}
      },
      "cell_type": "code",
      "source": [
        "import numpy as np\n",
        "\n",
        "from keras.datasets import cifar10\n",
        "from keras.utils.np_utils import to_categorical   \n",
        "\n",
        "\n",
        "(X_train, y_train), (X_test, y_test) = cifar10.load_data()\n"
      ],
      "execution_count": 0,
      "outputs": []
    },
    {
      "metadata": {
        "id": "pxIpQrx8_9cN",
        "colab_type": "code",
        "colab": {}
      },
      "cell_type": "code",
      "source": [
        "print(\"Shape of training data:\")\n",
        "print(X_train.shape)\n",
        "print(y_train.shape)\n",
        "print(\"Shape of test data:\")\n",
        "print(X_test.shape)\n",
        "print(y_test.shape)"
      ],
      "execution_count": 0,
      "outputs": []
    },
    {
      "metadata": {
        "id": "GMsvyg-zAAok",
        "colab_type": "code",
        "colab": {}
      },
      "cell_type": "code",
      "source": [
        "import matplotlib.pyplot as plt\n",
        "\n",
        "cifar_classes = ['airplane', 'automobile', 'bird', 'cat', 'deer', 'dog', 'frog', 'horse', 'ship', 'truck']\n",
        "print('Example training images and their labels: ' + str([x[0] for x in y_train[0:5]])) \n",
        "print('Corresponding classes for the labels: ' + str([cifar_classes[x[0]] for x in y_train[0:5]]))\n",
        "\n",
        "f, axarr = plt.subplots(1, 5)\n",
        "f.set_size_inches(16, 6)\n",
        "\n",
        "for i in range(5):\n",
        "    img = X_train[i]\n",
        "    axarr[i].imshow(np.transpose(np.reshape(img,(3, 32,32)), (1,2,0)))\n",
        "plt.show()\n",
        "\n",
        "#np.transpose(np.reshape(single_img,(3, 32,32)), (1,2,0))\n"
      ],
      "execution_count": 0,
      "outputs": []
    },
    {
      "metadata": {
        "id": "Ydu5_fdmAKkc",
        "colab_type": "code",
        "colab": {}
      },
      "cell_type": "code",
      "source": [
        "img = X_train[2]\n",
        "plt.imshow(np.transpose(np.reshape(img,(3, 32,32)), (1,2,0)))\n",
        "plt.show()\n",
        "print()"
      ],
      "execution_count": 0,
      "outputs": []
    }
  ]
}
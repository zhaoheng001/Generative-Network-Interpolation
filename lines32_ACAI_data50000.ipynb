{
  "nbformat": 4,
  "nbformat_minor": 0,
  "metadata": {
    "colab": {
      "name": "ACAI.ipynb",
      "provenance": [],
      "collapsed_sections": [],
      "authorship_tag": "ABX9TyNoQ7+xHISH3usXeD217bIz",
      "include_colab_link": true
    },
    "kernelspec": {
      "name": "python3",
      "display_name": "Python 3"
    },
    "accelerator": "GPU"
  },
  "cells": [
    {
      "cell_type": "markdown",
      "metadata": {
        "id": "view-in-github",
        "colab_type": "text"
      },
      "source": [
        "<a href=\"https://colab.research.google.com/github/zhaoheng001/colabtogithubdemo/blob/master/lines32_ACAI_data50000.ipynb\" target=\"_parent\"><img src=\"https://colab.research.google.com/assets/colab-badge.svg\" alt=\"Open In Colab\"/></a>"
      ]
    },
    {
      "cell_type": "code",
      "metadata": {
        "id": "eVogODA9PZHu",
        "outputId": "d8e1bff8-8be9-463c-8db0-5a672d68418b",
        "colab": {
          "base_uri": "https://localhost:8080/",
          "height": 1000
        }
      },
      "source": [
        "\n",
        "\n",
        "\n",
        "\n",
        "\n",
        "%env CUDA_VISIBLE_DEVICES=0\n",
        "\n",
        "! add-apt-repository ppa:graphics-drivers/ppa\n",
        "! apt update\n",
        "! apt install nvidia-384 nvidia-384-dev\n",
        "! apt-get install g++ freeglut3-dev build-essential libx11-dev libxmu-dev libxi-dev libglu1-mesa libglu1-mesa-dev"
      ],
      "execution_count": 1,
      "outputs": [
        {
          "output_type": "stream",
          "text": [
            "env: CUDA_VISIBLE_DEVICES=0\n",
            " Fresh drivers from upstream, currently shipping Nvidia.\n",
            "\n",
            "## Current Status\n",
            "\n",
            "Current long-lived branch release: `nvidia-430` (430.40)\n",
            "Dropped support for Fermi series (https://nvidia.custhelp.com/app/answers/detail/a_id/4656)\n",
            "\n",
            "Old long-lived branch release: `nvidia-390` (390.129)\n",
            "\n",
            "For GF1xx GPUs use `nvidia-390` (390.129)\n",
            "For G8x, G9x and GT2xx GPUs use `nvidia-340` (340.107)\n",
            "For NV4x and G7x GPUs use `nvidia-304` (304.137) End-Of-Life!\n",
            "\n",
            "Support timeframes for Unix legacy GPU releases:\n",
            "https://nvidia.custhelp.com/app/answers/detail/a_id/3142\n",
            "\n",
            "## What we're working on right now:\n",
            "\n",
            "- Normal driver updates\n",
            "- Help Wanted: Mesa Updates for Intel/AMD users, ping us if you want to help do this work, we're shorthanded.\n",
            "\n",
            "## WARNINGS:\n",
            "\n",
            "This PPA is currently in testing, you should be experienced with packaging before you dive in here:\n",
            "\n",
            "Volunteers welcome!\n",
            "\n",
            "### How you can help:\n",
            "\n",
            "## Install PTS and benchmark your gear:\n",
            "\n",
            "    sudo apt-get install phoronix-test-suite\n",
            "\n",
            "Run the benchmark:\n",
            "\n",
            "    phoronix-test-suite default-benchmark openarena xonotic tesseract gputest unigine-valley\n",
            "\n",
            "and then say yes when it asks you to submit your results to openbechmarking.org. Then grab a cup of coffee, it takes a bit for the benchmarks to run. Depending on the version of Ubuntu you're using it might preferable for you to grabs PTS from upstream directly: http://www.phoronix-test-suite.com/?k=downloads\n",
            "\n",
            "## Share your results with the community:\n",
            "\n",
            "Post a link to your results (or any other feedback to): https://launchpad.net/~graphics-drivers-testers\n",
            "\n",
            "Remember to rerun and resubmit the benchmarks after driver upgrades, this will allow us to gather a bunch of data on performance that we can share with everybody.\n",
            "\n",
            "If you run into old documentation referring to other PPAs, you can help us by consolidating references to this PPA.\n",
            "\n",
            "If someone wants to go ahead and start prototyping on `software-properties-gtk` on what the GUI should look like, please start hacking!\n",
            "\n",
            "## Help us Help You!\n",
            "\n",
            "We use the donation funds to get the developers hardware to test and upload these drivers, please consider donating to the \"community\" slider on the donation page if you're loving this PPA:\n",
            "\n",
            "http://www.ubuntu.com/download/desktop/contribute\n",
            " More info: https://launchpad.net/~graphics-drivers/+archive/ubuntu/ppa\n",
            "Press [ENTER] to continue or Ctrl-c to cancel adding it.\n",
            "\n",
            "Get:1 http://ppa.launchpad.net/c2d4u.team/c2d4u4.0+/ubuntu bionic InRelease [15.9 kB]\n",
            "Hit:2 http://archive.ubuntu.com/ubuntu bionic InRelease\n",
            "Get:3 http://archive.ubuntu.com/ubuntu bionic-updates InRelease [88.7 kB]\n",
            "Get:4 http://security.ubuntu.com/ubuntu bionic-security InRelease [88.7 kB]\n",
            "Hit:5 http://ppa.launchpad.net/graphics-drivers/ppa/ubuntu bionic InRelease\n",
            "Get:6 http://archive.ubuntu.com/ubuntu bionic-backports InRelease [74.6 kB]\n",
            "Get:7 https://cloud.r-project.org/bin/linux/ubuntu bionic-cran40/ InRelease [3,626 B]\n",
            "Ign:8 https://developer.download.nvidia.com/compute/cuda/repos/ubuntu1804/x86_64  InRelease\n",
            "Ign:9 https://developer.download.nvidia.com/compute/machine-learning/repos/ubuntu1804/x86_64  InRelease\n",
            "Get:10 https://developer.download.nvidia.com/compute/cuda/repos/ubuntu1804/x86_64  Release [697 B]\n",
            "Hit:11 https://developer.download.nvidia.com/compute/machine-learning/repos/ubuntu1804/x86_64  Release\n",
            "Get:12 https://developer.download.nvidia.com/compute/cuda/repos/ubuntu1804/x86_64  Release.gpg [836 B]\n",
            "Get:13 http://ppa.launchpad.net/c2d4u.team/c2d4u4.0+/ubuntu bionic/main Sources [1,681 kB]\n",
            "Get:14 http://ppa.launchpad.net/c2d4u.team/c2d4u4.0+/ubuntu bionic/main amd64 Packages [860 kB]\n",
            "Get:15 http://archive.ubuntu.com/ubuntu bionic-updates/restricted amd64 Packages [220 kB]\n",
            "Get:16 http://archive.ubuntu.com/ubuntu bionic-updates/universe amd64 Packages [2,104 kB]\n",
            "Get:17 http://archive.ubuntu.com/ubuntu bionic-updates/main amd64 Packages [2,110 kB]\n",
            "Get:18 http://archive.ubuntu.com/ubuntu bionic-updates/multiverse amd64 Packages [45.2 kB]\n",
            "Get:19 http://security.ubuntu.com/ubuntu bionic-security/main amd64 Packages [1,693 kB]\n",
            "Get:20 http://security.ubuntu.com/ubuntu bionic-security/universe amd64 Packages [1,341 kB]\n",
            "Get:21 https://cloud.r-project.org/bin/linux/ubuntu bionic-cran40/ Packages [39.1 kB]\n",
            "Ign:23 https://developer.download.nvidia.com/compute/cuda/repos/ubuntu1804/x86_64  Packages\n",
            "Get:23 https://developer.download.nvidia.com/compute/cuda/repos/ubuntu1804/x86_64  Packages [334 kB]\n",
            "Fetched 10.7 MB in 2s (4,966 kB/s)\n",
            "Reading package lists... Done\n",
            "Hit:1 http://ppa.launchpad.net/c2d4u.team/c2d4u4.0+/ubuntu bionic InRelease\n",
            "Hit:2 http://archive.ubuntu.com/ubuntu bionic InRelease\n",
            "Hit:3 http://archive.ubuntu.com/ubuntu bionic-updates InRelease\n",
            "Hit:4 http://ppa.launchpad.net/graphics-drivers/ppa/ubuntu bionic InRelease\n",
            "Hit:5 http://archive.ubuntu.com/ubuntu bionic-backports InRelease\n",
            "Hit:6 https://cloud.r-project.org/bin/linux/ubuntu bionic-cran40/ InRelease\n",
            "Hit:7 http://security.ubuntu.com/ubuntu bionic-security InRelease\n",
            "Ign:8 https://developer.download.nvidia.com/compute/cuda/repos/ubuntu1804/x86_64  InRelease\n",
            "Ign:9 https://developer.download.nvidia.com/compute/machine-learning/repos/ubuntu1804/x86_64  InRelease\n",
            "Hit:10 https://developer.download.nvidia.com/compute/cuda/repos/ubuntu1804/x86_64  Release\n",
            "Hit:11 https://developer.download.nvidia.com/compute/machine-learning/repos/ubuntu1804/x86_64  Release\n",
            "Reading package lists... Done\n",
            "Building dependency tree       \n",
            "Reading state information... Done\n",
            "19 packages can be upgraded. Run 'apt list --upgradable' to see them.\n",
            "Reading package lists... Done\n",
            "Building dependency tree       \n",
            "Reading state information... Done\n",
            "The following additional packages will be installed:\n",
            "  nvidia-driver-418 nvidia-driver-430\n",
            "The following NEW packages will be installed:\n",
            "  nvidia-384 nvidia-384-dev nvidia-driver-418 nvidia-driver-430\n",
            "0 upgraded, 4 newly installed, 0 to remove and 19 not upgraded.\n",
            "Need to get 27.5 kB of archives.\n",
            "After this operation, 74.8 kB of additional disk space will be used.\n",
            "Get:1 https://developer.download.nvidia.com/compute/cuda/repos/ubuntu1804/x86_64  nvidia-driver-430 455.23.05-0ubuntu1 [6,880 B]\n",
            "Get:2 https://developer.download.nvidia.com/compute/cuda/repos/ubuntu1804/x86_64  nvidia-384 418.165.02-0ubuntu1 [6,860 B]\n",
            "Get:3 https://developer.download.nvidia.com/compute/cuda/repos/ubuntu1804/x86_64  nvidia-384-dev 418.165.02-0ubuntu1 [6,868 B]\n",
            "Get:4 http://ppa.launchpad.net/graphics-drivers/ppa/ubuntu bionic/main amd64 nvidia-driver-418 amd64 430.64-0ubuntu0~gpu18.04.1 [6,904 B]\n",
            "Fetched 27.5 kB in 0s (479 kB/s)\n",
            "Selecting previously unselected package nvidia-driver-430.\n",
            "(Reading database ... 144617 files and directories currently installed.)\n",
            "Preparing to unpack .../nvidia-driver-430_455.23.05-0ubuntu1_amd64.deb ...\n",
            "Unpacking nvidia-driver-430 (455.23.05-0ubuntu1) ...\n",
            "Selecting previously unselected package nvidia-driver-418.\n",
            "Preparing to unpack .../nvidia-driver-418_430.64-0ubuntu0~gpu18.04.1_amd64.deb ...\n",
            "Unpacking nvidia-driver-418 (430.64-0ubuntu0~gpu18.04.1) ...\n",
            "Selecting previously unselected package nvidia-384.\n",
            "Preparing to unpack .../nvidia-384_418.165.02-0ubuntu1_amd64.deb ...\n",
            "Unpacking nvidia-384 (418.165.02-0ubuntu1) ...\n",
            "Selecting previously unselected package nvidia-384-dev.\n",
            "Preparing to unpack .../nvidia-384-dev_418.165.02-0ubuntu1_amd64.deb ...\n",
            "Unpacking nvidia-384-dev (418.165.02-0ubuntu1) ...\n",
            "Setting up nvidia-driver-430 (455.23.05-0ubuntu1) ...\n",
            "Setting up nvidia-driver-418 (430.64-0ubuntu0~gpu18.04.1) ...\n",
            "Setting up nvidia-384-dev (418.165.02-0ubuntu1) ...\n",
            "Setting up nvidia-384 (418.165.02-0ubuntu1) ...\n",
            "Reading package lists... Done\n",
            "Building dependency tree       \n",
            "Reading state information... Done\n",
            "build-essential is already the newest version (12.4ubuntu1).\n",
            "libglu1-mesa is already the newest version (9.0.0-2.1build1).\n",
            "libglu1-mesa set to manually installed.\n",
            "libglu1-mesa-dev is already the newest version (9.0.0-2.1build1).\n",
            "libglu1-mesa-dev set to manually installed.\n",
            "libxi-dev is already the newest version (2:1.7.9-1).\n",
            "libxi-dev set to manually installed.\n",
            "libxmu-dev is already the newest version (2:1.1.2-2).\n",
            "libxmu-dev set to manually installed.\n",
            "freeglut3-dev is already the newest version (2.8.1-3).\n",
            "freeglut3-dev set to manually installed.\n",
            "g++ is already the newest version (4:7.4.0-1ubuntu2.3).\n",
            "g++ set to manually installed.\n",
            "libx11-dev is already the newest version (2:1.6.4-3ubuntu0.3).\n",
            "libx11-dev set to manually installed.\n",
            "0 upgraded, 0 newly installed, 0 to remove and 19 not upgraded.\n"
          ],
          "name": "stdout"
        }
      ]
    },
    {
      "cell_type": "code",
      "metadata": {
        "id": "Tw_i9Z_vbIbh",
        "outputId": "7322be5c-0dec-4267-9e8c-a0222ea8291d",
        "colab": {
          "base_uri": "https://localhost:8080/",
          "height": 292
        }
      },
      "source": [
        "from __future__ import print_function\n",
        "!pip install git+https://github.com/kazemSafari/convrf.git\n",
        "from convrf.convrf import Conv2dRF"
      ],
      "execution_count": 1,
      "outputs": [
        {
          "output_type": "stream",
          "text": [
            "Collecting git+https://github.com/kazemSafari/convrf.git\n",
            "  Cloning https://github.com/kazemSafari/convrf.git to /tmp/pip-req-build-1c1ou0cj\n",
            "  Running command git clone -q https://github.com/kazemSafari/convrf.git /tmp/pip-req-build-1c1ou0cj\n",
            "Requirement already satisfied (use --upgrade to upgrade): convrf==0.0.0 from git+https://github.com/kazemSafari/convrf.git in /usr/local/lib/python3.6/dist-packages\n",
            "Requirement already satisfied: torch in /usr/local/lib/python3.6/dist-packages (from convrf==0.0.0) (1.6.0+cu101)\n",
            "Requirement already satisfied: numpy in /usr/local/lib/python3.6/dist-packages (from convrf==0.0.0) (1.18.5)\n",
            "Requirement already satisfied: pathlib in /usr/local/lib/python3.6/dist-packages (from convrf==0.0.0) (1.0.1)\n",
            "Requirement already satisfied: argparse in /usr/local/lib/python3.6/dist-packages (from convrf==0.0.0) (1.4.0)\n",
            "Requirement already satisfied: scipy in /usr/local/lib/python3.6/dist-packages (from convrf==0.0.0) (1.4.1)\n",
            "Requirement already satisfied: future in /usr/local/lib/python3.6/dist-packages (from torch->convrf==0.0.0) (0.16.0)\n",
            "Building wheels for collected packages: convrf\n",
            "  Building wheel for convrf (setup.py) ... \u001b[?25l\u001b[?25hdone\n",
            "  Created wheel for convrf: filename=convrf-0.0.0-cp36-none-any.whl size=9068 sha256=c068fedc3fa6e3772700a2dffa8ad399bfd80072117f0c4e04b215eb2c44456f\n",
            "  Stored in directory: /tmp/pip-ephem-wheel-cache-87fisfkb/wheels/0e/ac/de/3550850879c0591f9fb22c289f2bf5b85d49e22af2fa2d7408\n",
            "Successfully built convrf\n"
          ],
          "name": "stdout"
        }
      ]
    },
    {
      "cell_type": "code",
      "metadata": {
        "id": "3nCZdkPhGs8P",
        "outputId": "56d5df82-c3f3-40c7-c41b-55bf5e0e5857",
        "colab": {
          "base_uri": "https://localhost:8080/",
          "height": 51
        }
      },
      "source": [
        "from __future__ import print_function\n",
        "#%matplotlib inline\n",
        "import argparse\n",
        "import os\n",
        "import random\n",
        "import torch\n",
        "import torch.nn as nn\n",
        "import torch.nn.parallel\n",
        "import torch.backends.cudnn as cudnn\n",
        "import torch.optim as optim\n",
        "import torch.utils.data\n",
        "import torchvision.datasets as dset\n",
        "import torchvision.transforms as transforms\n",
        "import torchvision.utils as vutils\n",
        "import numpy as np\n",
        "import matplotlib.pyplot as plt\n",
        "import matplotlib.animation as animation\n",
        "from IPython.display import HTML\n",
        "\n",
        "from __future__ import absolute_import\n",
        "from __future__ import division\n",
        "\n",
        "\n",
        "import functools\n",
        "import glob\n",
        "import math\n",
        "\n",
        "\n",
        "\n",
        "\n",
        "import tensorflow as tf\n",
        "# Set random seed for reproducibility\n",
        "manualSeed = 999\n",
        "#manualSeed = random.randint(1, 10000) # use if you want new results\n",
        "print(\"Random Seed: \", manualSeed)\n",
        "random.seed(manualSeed)\n",
        "torch.manual_seed(manualSeed)"
      ],
      "execution_count": 2,
      "outputs": [
        {
          "output_type": "stream",
          "text": [
            "Random Seed:  999\n"
          ],
          "name": "stdout"
        },
        {
          "output_type": "execute_result",
          "data": {
            "text/plain": [
              "<torch._C.Generator at 0x7f1df74e95e8>"
            ]
          },
          "metadata": {
            "tags": []
          },
          "execution_count": 2
        }
      ]
    },
    {
      "cell_type": "code",
      "metadata": {
        "id": "HcxvMXtYG_48"
      },
      "source": [
        "def draw_line(angle, height, width, w=2.):\n",
        "    m = np.zeros((height, width, 1))\n",
        "    x0 = height*0.5\n",
        "    y0 = width*0.5\n",
        "    x1 = x0 + (x0 - 1) * math.cos(-angle)\n",
        "    y1 = y0 + (y0 - 1) * math.sin(-angle)\n",
        "    flip = False\n",
        "    if abs(y0 - y1) < abs(x0 - x1):\n",
        "        x0, x1, y0, y1 = y0, y1, x0, x1\n",
        "        flip = True\n",
        "    if y1 < y0:\n",
        "        x0, x1, y0, y1 = x1, x0, y1, y0\n",
        "    x0, x1 = x0 - w / 2, x1 - w / 2\n",
        "    dx = x1 - x0\n",
        "    dy = y1 - y0\n",
        "    ds = dx / dy if dy != 0 else 0\n",
        "    yi = int(math.ceil(y0)), int(y1)\n",
        "    points = []\n",
        "    for y in range(int(y0), int(math.ceil(y1))):\n",
        "        if y < yi[0]:\n",
        "            weight = yi[0] - y0\n",
        "        elif y > yi[1]:\n",
        "            weight = y1 - yi[1]\n",
        "        else:\n",
        "            weight = 1\n",
        "        xs = x0 + (y - y0 - .5) * ds\n",
        "        xe = xs + w\n",
        "        xi = int(math.ceil(xs)), int(xe)\n",
        "        if xi[0] != xi[1]:\n",
        "            points.append((y, slice(xi[0], xi[1]), weight))\n",
        "        if xi[0] != xs:\n",
        "            points.append((y, int(xs), weight * (xi[0] - xs)))\n",
        "        if xi[1] != xe:\n",
        "            points.append((y, xi[1], weight * (xe - xi[1])))\n",
        "    if flip:\n",
        "        points = [(x, y, z) for y, x, z in points]\n",
        "    for y, x, z in points:\n",
        "        m[y, x] += 2 * z\n",
        "    m -= 1\n",
        "    m = m.clip(-1, 1)\n",
        "    return m"
      ],
      "execution_count": 3,
      "outputs": []
    },
    {
      "cell_type": "code",
      "metadata": {
        "id": "JRaHI1B6HDKo",
        "outputId": "9f532c30-2559-4895-d8c6-f69d40bbca50",
        "colab": {
          "base_uri": "https://localhost:8080/",
          "height": 283
        }
      },
      "source": [
        "x = draw_line(2, 32, 32)\n",
        "print(x.shape)\n",
        "x = np.squeeze(x)\n",
        "x.shape\n",
        "from matplotlib import pyplot as plt\n",
        "plt.imshow(x, interpolation='nearest')\n",
        "plt.show()"
      ],
      "execution_count": 4,
      "outputs": [
        {
          "output_type": "stream",
          "text": [
            "(32, 32, 1)\n"
          ],
          "name": "stdout"
        },
        {
          "output_type": "display_data",
          "data": {
            "image/png": "[encoded data removed]",
            "text/plain": [
              "<Figure size 432x288 with 1 Axes>"
            ]
          },
          "metadata": {
            "tags": [],
            "needs_background": "light"
          }
        }
      ]
    },
    {
      "cell_type": "code",
      "metadata": {
        "id": "62zXZOwpHFtX",
        "outputId": "1ed05643-07a0-4165-ffc3-c2d891517c34",
        "colab": {
          "base_uri": "https://localhost:8080/",
          "height": 34
        }
      },
      "source": [
        "def creat_dataset(num_data):\n",
        "  dataset = np.zeros((num_data,32,32))\n",
        "  for i in range(num_data):\n",
        "    angle = 2 * random.random() * math.pi\n",
        "    m = draw_line(angle, 32, 32)\n",
        "    m = np.squeeze(m)\n",
        "    dataset[i] = m\n",
        "  return dataset\n",
        "n_dataset = 51200\n",
        "dataset_train = creat_dataset(n_dataset)\n",
        "print(dataset_train.shape)"
      ],
      "execution_count": 6,
      "outputs": [
        {
          "output_type": "stream",
          "text": [
            "(51200, 32, 32)\n"
          ],
          "name": "stdout"
        }
      ]
    },
    {
      "cell_type": "code",
      "metadata": {
        "id": "feIKvVEpHII6"
      },
      "source": [
        "from google.colab import drive\n",
        "#mount google drive\n",
        "#drive.mount('/content/drive')\n",
        "path = \"/content/lines32/lines32_data51200\"\n",
        "os.chdir(path)\n",
        "os.listdir(path)\n",
        "!ls"
      ],
      "execution_count": 8,
      "outputs": []
    },
    {
      "cell_type": "code",
      "metadata": {
        "id": "8Q2ZKUhSHbMj",
        "outputId": "330f68f8-ff63-4cda-d13e-a1c85d68dd5a",
        "colab": {
          "base_uri": "https://localhost:8080/",
          "height": 283
        }
      },
      "source": [
        "import imageio\n",
        "import skimage.io as io\n",
        "from skimage import img_as_ubyte\n",
        "\n",
        "\n",
        "for i in range(n_dataset):\n",
        "  im = dataset_train[i]\n",
        "  im = np.array(im)\n",
        "  im = img_as_ubyte(im)\n",
        "  imageio.imwrite(np.str(i)+'.jpg',im) #save\n",
        "  #io.imsave(content/sample_data/lines32+np.str(i)+'.jpg',im)\n",
        "\n",
        "im = dataset_train[1]\n",
        "print(im.shape)\n",
        "im = np.array(im)\n",
        "#print(im)\n",
        "\n",
        "#creat grey scale image\n",
        "#imageio.imwrite('im.jpg', im)\n",
        "\n",
        "\n",
        "from matplotlib import pyplot as plt\n",
        "plt.imshow(im, interpolation='nearest')\n",
        "plt.show()"
      ],
      "execution_count": 9,
      "outputs": [
        {
          "output_type": "stream",
          "text": [
            "(32, 32)\n"
          ],
          "name": "stdout"
        },
        {
          "output_type": "display_data",
          "data": {
            "image/png": "[encoded data removed]",
            "text/plain": [
              "<Figure size 432x288 with 1 Axes>"
            ]
          },
          "metadata": {
            "tags": [],
            "needs_background": "light"
          }
        }
      ]
    },
    {
      "cell_type": "code",
      "metadata": {
        "id": "cqAvQQV-Pc16",
        "outputId": "0a24e270-8c64-4f5e-99ce-567a78e5b1db",
        "colab": {
          "base_uri": "https://localhost:8080/",
          "height": 408
        }
      },
      "source": [
        "import time\n",
        "from collections import defaultdict\n",
        "\n",
        "import numpy as np\n",
        "import matplotlib.pyplot as plt\n",
        "from IPython.display import clear_output\n",
        "\n",
        "import torch\n",
        "from torch import nn, optim\n",
        "import torch.nn.functional as F\n",
        "\n",
        "#from python_utils.import_ import import_global\n",
        "#import_global('show_array') \n",
        "#from python_utils import show_array\n",
        "#from python_utils import mosaic\n",
        "#from show_array import *\n",
        "#from mosaic import *\n",
        "import sklearn\n",
        "print(sklearn.__version__)\n",
        "!apt update -qq\n",
        "!apt install -qq cmake ffmpeg\n",
        "#!pip install dlib\n",
        "\n",
        "![[ ! -e utils ]] && \\\n",
        "  git clone https://github.com/kylemcdonald/python-utils -b show_array utils\n"
      ],
      "execution_count": 10,
      "outputs": [
        {
          "output_type": "stream",
          "text": [
            "0.22.2.post1\n",
            "19 packages can be upgraded. Run 'apt list --upgradable' to see them.\n",
            "cmake is already the newest version (3.10.2-1ubuntu2.18.04.1).\n",
            "ffmpeg is already the newest version (7:3.4.8-0ubuntu0.2).\n",
            "0 upgraded, 0 newly installed, 0 to remove and 19 not upgraded.\n",
            "Cloning into 'utils'...\n",
            "remote: Enumerating objects: 13, done.\u001b[K\n",
            "remote: Counting objects: 100% (13/13), done.\u001b[K\n",
            "remote: Compressing objects: 100% (10/10), done.\u001b[K\n",
            "remote: Total 261 (delta 4), reused 6 (delta 3), pack-reused 248\u001b[K\n",
            "Receiving objects: 100% (261/261), 57.69 KiB | 703.00 KiB/s, done.\n",
            "Resolving deltas: 100% (144/144), done.\n",
            "Note: checking out 'a4fd6c2f5275ae6b836f7d01caf42cf46a0af782'.\n",
            "\n",
            "You are in 'detached HEAD' state. You can look around, make experimental\n",
            "changes and commit them, and you can discard any commits you make in this\n",
            "state without impacting any branches by performing another checkout.\n",
            "\n",
            "If you want to create a new branch to retain commits you create, you may\n",
            "do so (now or later) by using -b with the checkout command again. Example:\n",
            "\n",
            "  git checkout -b <new-branch-name>\n",
            "\n"
          ],
          "name": "stdout"
        }
      ]
    },
    {
      "cell_type": "code",
      "metadata": {
        "id": "OcceJiAoHsRO",
        "outputId": "1c960d56-a099-46ef-b706-4ad2e5b9c945",
        "colab": {
          "base_uri": "https://localhost:8080/",
          "height": 34
        }
      },
      "source": [
        "\n",
        "import os\n",
        "from google.colab import drive\n",
        "#mount google drive\n",
        "#drive.mount('/content/drive')\n",
        "path = \"/content/lines32\"\n",
        "\n",
        "print(os.getcwd())"
      ],
      "execution_count": 11,
      "outputs": [
        {
          "output_type": "stream",
          "text": [
            "/content/lines32/lines32_data51200\n"
          ],
          "name": "stdout"
        }
      ]
    },
    {
      "cell_type": "code",
      "metadata": {
        "id": "CQRlv3nfHzZk"
      },
      "source": [
        "#define class Dataset\n",
        "import torch.nn.functional as F\n",
        "import torch\n",
        "import torch.nn as nn\n",
        "from torch.autograd import Variable\n",
        "import torchvision.models as models\n",
        "from torchvision import transforms, utils\n",
        "from torch.utils.data import Dataset, DataLoader\n",
        "from PIL import Image\n",
        "import numpy as np\n",
        "import torch.optim as optim\n",
        "import os\n",
        "import torch.utils.data as data\n",
        "root ='/content/lines32/'#调用图像\n",
        "def default_loader(path):\n",
        "    return Image.open(path).convert('L')\n",
        " \n",
        "class MyTrainData(torch.utils.data.Dataset):\n",
        "  def __init__(self, txt, transform=None,target_transform=None, loader=default_loader):\n",
        "    super(MyTrainData,self).__init__()\n",
        "    fh = open(txt, 'r')\n",
        "    imgs = []\n",
        "    for line in fh:\n",
        "      line = line.strip('\\n')\n",
        "      line = line.rstrip('\\n')\n",
        "      words = line.split()\n",
        "      imgs.append((words[0]))\n",
        "    self.imgs = imgs\n",
        "    self.transform = transform\n",
        "    self.target_transform = target_transform\n",
        "    self.loader = loader\n",
        "\n",
        "  def __getitem__(self, index):\n",
        "    fn = self.imgs[index]\n",
        "    img = self.loader(fn)\n",
        "    if self.transform is not None:\n",
        "      img = self.transform(img)\n",
        "    return img\n",
        "\n",
        " \n",
        "  def __len__(self):\n",
        "    return len(self.imgs) #这个是必须返回的长度"
      ],
      "execution_count": 12,
      "outputs": []
    },
    {
      "cell_type": "code",
      "metadata": {
        "id": "rIFwmI2zH2gf"
      },
      "source": [
        "#write txt file for dataset\n",
        "import os\n",
        "dir = '/content/lines32/lines32_data51200' + '/'\n",
        "files = os.listdir(dir)\n",
        "files.sort()\n",
        "train = open('/content/lines32/train.txt','a')\n",
        "val = open('/content/lines32/val.txt', 'a')\n",
        "i = 1\n",
        "for file in files:\n",
        "  if i<51201:\n",
        "    fileType = os.path.split(file)\n",
        "    if fileType[1] == '.txt':\n",
        "      continue\n",
        "    name =  str(dir) +  file + '\\n'\n",
        "    train.write(name)\n",
        "    i = i+1\n",
        "    print(i)\n",
        "  else:\n",
        "    fileType = os.path.split(file)\n",
        "    if fileType[1] == '.txt':\n",
        "      continue\n",
        "    name = str(dir) +file + '\\n'\n",
        "    val.write(name)\n",
        "    i = i+1\n",
        "    print(i)\n",
        "val.close()\n",
        "train.close()"
      ],
      "execution_count": null,
      "outputs": []
    },
    {
      "cell_type": "code",
      "metadata": {
        "id": "aam1ujNhIQzz"
      },
      "source": [
        "# Root directory for dataset\n",
        "#dataroot = \"data/celeba\"\n",
        "\n",
        "# Number of workers for dataloader\n",
        "workers = 2\n",
        "\n",
        "# Batch size during training\n",
        "batch_size = 32\n",
        "\n",
        "# Spatial size of training images. All images will be resized to this\n",
        "#   size using a transformer.\n",
        "image_size = 32\n",
        "\n",
        "# Number of channels in the training images. For color images this is 3\n",
        "nc = 1\n",
        "\n",
        "# Size of z latent vector (i.e. size of generator input)\n",
        "nz = 100\n",
        "\n",
        "# Size of feature maps in generator\n",
        "ngf = 32\n",
        "\n",
        "# Size of feature maps in discriminator\n",
        "ndf = 32\n",
        "\n",
        "# Number of training epochs\n",
        "num_epochs = 50\n",
        "\n",
        "# Learning rate for optimizers\n",
        "lr = 0.0002\n",
        "\n",
        "# Beta1 hyperparam for Adam optimizers\n",
        "beta1 = 0.5\n",
        "\n",
        "# Number of GPUs available. Use 0 for CPU mode.\n",
        "ngpu = 1"
      ],
      "execution_count": 14,
      "outputs": []
    },
    {
      "cell_type": "code",
      "metadata": {
        "id": "K9eWnA14IIDs",
        "outputId": "41b8b93c-d14b-4e08-b03d-63acb0ebb2a1",
        "colab": {
          "base_uri": "https://localhost:8080/",
          "height": 300
        }
      },
      "source": [
        "train_data=MyTrainData(txt=root+'train.txt', transform=transforms.ToTensor())\n",
        "test_data = MyTrainData(txt=root+'val.txt', transform=transforms.ToTensor())\n",
        "train_loader = DataLoader(dataset=train_data, batch_size = batch_size, shuffle=True,num_workers=2)\n",
        "test_loader = DataLoader(dataset=test_data, batch_size = batch_size, shuffle=False,num_workers=2)\n",
        "print('num_of_trainData:', len(train_data))\n",
        "print('num_of_testData:', len(test_data))\n",
        "\n",
        "import torchvision\n",
        "img = torchvision.utils.make_grid(train_data[1]).numpy()\n",
        "plt.imshow(np.transpose(img,(1,2,0)))\n",
        "plt.show()"
      ],
      "execution_count": 15,
      "outputs": [
        {
          "output_type": "stream",
          "text": [
            "num_of_trainData: 51200\n",
            "num_of_testData: 1\n"
          ],
          "name": "stdout"
        },
        {
          "output_type": "display_data",
          "data": {
            "image/png": "[encoded data removed]",
            "text/plain": [
              "<Figure size 432x288 with 1 Axes>"
            ]
          },
          "metadata": {
            "tags": [],
            "needs_background": "light"
          }
        }
      ]
    },
    {
      "cell_type": "code",
      "metadata": {
        "id": "yjU7TyjXIbpK",
        "outputId": "dcb51b6f-d092-4bed-b19c-95f5e4fec140",
        "colab": {
          "base_uri": "https://localhost:8080/",
          "height": 217
        }
      },
      "source": [
        "#show one batch\n",
        "def show_batch(sample_batched):\n",
        "  images_batch = sample_batched\n",
        "  batch_size = len(images_batch)\n",
        "  im_size = images_batch.size(2)\n",
        "  grid = utils.make_grid(images_batch)\n",
        "  plt.imshow(grid.numpy().transpose((1, 2, 0)))\n",
        "\n",
        " \n",
        "  \n",
        "for i_batch, sample_batched in enumerate(train_loader):\n",
        "  print(i_batch, sample_batched.size())\n",
        "  if i_batch == 0:\n",
        "    plt.figure()\n",
        "    show_batch(sample_batched)\n",
        "    plt.axis('off')\n",
        "    plt.ioff()\n",
        "    break\n",
        "\n",
        "\n",
        "dataloader = torch.utils.data.DataLoader(train_data, batch_size=batch_size,\n",
        "                                         shuffle=True, num_workers=workers)\n",
        "\n",
        "device = torch.device(\"cuda:0\" if (torch.cuda.is_available() and ngpu > 0) else \"cpu\")"
      ],
      "execution_count": 16,
      "outputs": [
        {
          "output_type": "stream",
          "text": [
            "0 torch.Size([32, 1, 32, 32])\n"
          ],
          "name": "stdout"
        },
        {
          "output_type": "display_data",
          "data": {
            "image/png": "[encoded data removed]",
            "text/plain": [
              "<Figure size 432x288 with 1 Axes>"
            ]
          },
          "metadata": {
            "tags": [],
            "needs_background": "light"
          }
        }
      ]
    },
    {
      "cell_type": "code",
      "metadata": {
        "id": "Yhd9ht-sIWJJ"
      },
      "source": [
        "def weights_init(m):\n",
        "    classname = m.__class__.__name__\n",
        "    if classname.find('Conv') != -1:\n",
        "        nn.init.normal_(m.weight.data, 0.0, 0.02)\n",
        "    elif classname.find('BatchNorm') != -1:\n",
        "        nn.init.normal_(m.weight.data, 1.0, 0.02)\n",
        "        nn.init.constant_(m.bias.data, 0)"
      ],
      "execution_count": 17,
      "outputs": []
    },
    {
      "cell_type": "code",
      "metadata": {
        "id": "fWlYw3XMeFui"
      },
      "source": [
        "from utils.show_array import *\n",
        "from utils.mosaic import *"
      ],
      "execution_count": 18,
      "outputs": []
    },
    {
      "cell_type": "code",
      "metadata": {
        "id": "1x-wz-ICvEAF"
      },
      "source": [
        "args = {\n",
        "    'epochs': 1000,\n",
        "    'width': 32,\n",
        "    'latent_width': 4,\n",
        "    'depth': 16,\n",
        "    'advdepth': 16,\n",
        "    'advweight': 0.5,\n",
        "    'reg': 0.2,\n",
        "    'latent': 2,\n",
        "    'colors': 1,\n",
        "    'lr': 0.0001,\n",
        "    'batch_size': 32,\n",
        "    'device': 'cuda'\n",
        "}\n",
        "def build_batches(x, n):\n",
        "    x = np.asarray(x)\n",
        "    m = (x.shape[0] // n) * n\n",
        "    return x[:m].reshape(-1, n, *x.shape[1:])"
      ],
      "execution_count": 19,
      "outputs": []
    },
    {
      "cell_type": "code",
      "metadata": {
        "id": "FGDQIB2e4_lK"
      },
      "source": [
        "def swap_halves(x):\n",
        "    a, b = x.split(x.shape[0]//2)\n",
        "    return torch.cat([b, a])\n",
        "\n",
        "# torch.lerp only support scalar weight\n",
        "def lerp(start, end, weights):\n",
        "    return start + weights * (end - start)\n",
        "\n",
        "def L2(x):\n",
        "    return torch.mean(x**2)"
      ],
      "execution_count": 20,
      "outputs": []
    },
    {
      "cell_type": "code",
      "metadata": {
        "id": "WzwfscQdWArm"
      },
      "source": [
        ""
      ],
      "execution_count": null,
      "outputs": []
    },
    {
      "cell_type": "code",
      "metadata": {
        "id": "6UjJ2QNS5F_1"
      },
      "source": [
        "activation = nn.LeakyReLU\n",
        "import math\n",
        "# authors use this initializer, but it doesn't seem essential\n",
        "def Initializer(layers, slope=0.2):\n",
        "    for layer in layers:\n",
        "        if hasattr(layer, 'weight'):\n",
        "            w = layer.weight.data\n",
        "            std = 1/np.sqrt((1 + slope**2) * np.prod(w.shape[:-1]))\n",
        "            w.normal_(std=std)  \n",
        "        if hasattr(layer, 'bias'):\n",
        "            layer.bias.data.zero_()\n",
        "\n",
        "def Encoder(scales, depth, latent, colors):\n",
        "    layers = []\n",
        "    layers.append(nn.Conv2d(colors, depth, 1, padding=1))\n",
        "    kp = depth\n",
        "    for scale in range(scales):\n",
        "        k = depth << scale\n",
        "        layers.extend([nn.Conv2d(kp, k, 3, padding=1), activation()])\n",
        "        layers.extend([nn.Conv2d(k, k, 3, padding=1), activation()])\n",
        "        layers.append(nn.AvgPool2d(2))\n",
        "        kp = k\n",
        "    k = depth << scales\n",
        "    layers.extend([nn.Conv2d(kp, k, 3, padding=1), activation()])\n",
        "    layers.append(nn.Conv2d(k, latent, 3, padding=1))\n",
        "    Initializer(layers)\n",
        "    return nn.Sequential(*layers)\n",
        "\n",
        "def Decoder(scales, depth, latent, colors):\n",
        "    layers = []\n",
        "    kp = latent\n",
        "    for scale in range(scales - 1, -1, -1):\n",
        "        k = depth << scale\n",
        "        layers.extend([nn.Conv2d(kp, k, 3, padding=1), activation()])\n",
        "        layers.extend([nn.Conv2d(k, k, 3, padding=1), activation()])\n",
        "        layers.append(nn.Upsample(scale_factor=2))\n",
        "        kp = k\n",
        "    layers.extend([nn.Conv2d(kp, depth, 3, padding=1), activation()])\n",
        "    layers.append(nn.Conv2d(depth, colors, 3, padding=1))\n",
        "    Initializer(layers)\n",
        "    return nn.Sequential(*layers)\n",
        "\n",
        "class Discriminator(nn.Module):\n",
        "    def __init__(self, scales, depth, latent, colors):\n",
        "        super().__init__()\n",
        "        self.encoder = Encoder(scales, depth, latent, colors)\n",
        "        \n",
        "    def forward(self, x):\n",
        "        x = self.encoder(x)\n",
        "        x = x.reshape(x.shape[0], -1)\n",
        "        x = torch.mean(x, -1)\n",
        "        return x\n",
        "\n",
        "scales = int(round(math.log(args['width'] // args['latent_width'], 2)))\n",
        "encoder = Encoder(scales, args['depth'], args['latent'], args['colors']).to(args['device'])\n",
        "decoder = Decoder(scales, args['depth'], args['latent'], args['colors']).to(args['device'])\n",
        "discriminator = Discriminator(scales, args['advdepth'], args['latent'], args['colors']).to(args['device'])\n",
        "\n",
        "opt_ae = optim.Adam(list(encoder.parameters()) + list(decoder.parameters()), lr=args['lr'], weight_decay=1e-5)\n",
        "opt_d = optim.Adam(discriminator.parameters(), lr=args['lr'], weight_decay=1e-5)\n",
        "\n",
        "losses = defaultdict(list)"
      ],
      "execution_count": 21,
      "outputs": []
    },
    {
      "cell_type": "code",
      "metadata": {
        "id": "H4dpISCY-aI0"
      },
      "source": [
        "def reconstruct(x):\n",
        "    out = decoder(encoder(x))\n",
        "    return make_mosaic(out.cpu().data.numpy().squeeze())\n",
        "\n",
        "def interpolate_2(x, side=16):\n",
        "    z = encoder(x)\n",
        "    z = z.data.cpu().numpy()\n",
        "\n",
        "    a, b = z[:side], z[-side:]\n",
        "    z_interp = [a * (1-t) + b * t for t in np.linspace(0,1,side-2)]\n",
        "    z_interp = np.vstack(z_interp)\n",
        "    x_interp = decoder(torch.FloatTensor(z_interp).to(args['device']))\n",
        "    x_interp = x_interp.cpu().data.numpy()\n",
        "\n",
        "    x_fixed = x.data.cpu().numpy()\n",
        "    all = []\n",
        "    all.extend(x_fixed[:side])\n",
        "    all.extend(x_interp)\n",
        "    all.extend(x_fixed[-side:])\n",
        "    \n",
        "    return make_mosaic(np.asarray(all).squeeze())\n",
        "\n",
        "def interpolate_4(x, side=16):\n",
        "    z = encoder(x)\n",
        "    z = z.data.cpu().numpy()\n",
        "    \n",
        "    n = side*side\n",
        "    xv, yv = np.meshgrid(np.linspace(0,1,side),\n",
        "                         np.linspace(0,1,side))\n",
        "    xv = xv.reshape(n,1,1,1)\n",
        "    yv = yv.reshape(n,1,1,1)\n",
        "\n",
        "    z_interp = \\\n",
        "        z[0] * (1-xv) * (1-yv) + \\\n",
        "        z[1] * xv * (1-yv) + \\\n",
        "        z[2] * (1-xv) * yv + \\\n",
        "        z[3] * xv * yv\n",
        "\n",
        "    x_fixed = x.data.cpu().numpy()\n",
        "    x_interp = decoder(torch.FloatTensor(z_interp).to(args['device']))\n",
        "    x_interp = x_interp.data.cpu().numpy()\n",
        "    x_interp[0] = x_fixed[0]\n",
        "    x_interp[side-1] = x_fixed[1]\n",
        "    x_interp[n-side] = x_fixed[2]\n",
        "    x_interp[n-1] = x_fixed[3]\n",
        "    \n",
        "    return make_mosaic(x_interp.squeeze())\n",
        "for i, data in enumerate(dataloader, 0):\n",
        "  if i == 0:\n",
        "    data_batches = data.cuda()\n",
        "# random samples based on a reference distribution\n",
        "def random_samples(x):\n",
        "    z = encoder(data_batches)\n",
        "    z = z.data.cpu().numpy()\n",
        "    z_sample = np.random.normal(loc=z.mean(axis=0), scale=z.std(axis=0), size=z.shape)\n",
        "    x_sample = decoder(torch.FloatTensor(z_sample).to(args['device']))\n",
        "    x_sample = x_sample.data.cpu().numpy()\n",
        "    return make_mosaic(x_sample.squeeze())\n",
        "\n",
        "def status():\n",
        "    x = data_batches\n",
        "    chunks = [interpolate_2(x)]\n",
        "    chunks = np.array([np.pad(e, (0,1), mode='constant', constant_values=255) for e in chunks])\n",
        "    return make_mosaic(chunks)"
      ],
      "execution_count": 24,
      "outputs": []
    },
    {
      "cell_type": "code",
      "metadata": {
        "id": "RJpQCC5vpl0b"
      },
      "source": [
        "\n"
      ],
      "execution_count": null,
      "outputs": []
    },
    {
      "cell_type": "code",
      "metadata": {
        "id": "4XDeIogt-d5S",
        "outputId": "a559bd1d-f779-48cd-abd5-d05d073a47ec",
        "colab": {
          "base_uri": "https://localhost:8080/",
          "height": 808
        }
      },
      "source": [
        "it = 0\n",
        "start_time = time.time()\n",
        "\n",
        "try:\n",
        "    for epoch in range(args['epochs']):\n",
        "        for i, data in enumerate(dataloader, 0):\n",
        "            data = data.cuda()\n",
        "            z = encoder(data)\n",
        "            out = decoder(z)\n",
        "            disc = discriminator(torch.lerp(out, data, args['reg']))\n",
        "        \n",
        "            alpha = torch.rand(args['batch_size'], 1, 1, 1).to(args['device']) / 2\n",
        "            z_mix = lerp(z, swap_halves(z), alpha)\n",
        "            out_mix = decoder(z_mix)\n",
        "            disc_mix = discriminator(out_mix)\n",
        "\n",
        "            loss_ae_mse = F.mse_loss(out, data)\n",
        "            loss_ae_l2 = L2(disc_mix) * args['advweight']\n",
        "            loss_ae = loss_ae_mse + loss_ae_l2\n",
        "            \n",
        "            opt_ae.zero_grad()\n",
        "            loss_ae.backward(retain_graph=True)\n",
        "            \n",
        "            \n",
        "            loss_disc_mse = F.mse_loss(disc_mix, alpha.reshape(-1))\n",
        "            loss_disc_l2 = L2(disc)\n",
        "            loss_disc = loss_disc_mse + loss_disc_l2\n",
        "            \n",
        "            opt_d.zero_grad()\n",
        "            loss_disc.backward()\n",
        "            #RuntimeError inplace\n",
        "            opt_ae.step()\n",
        "            opt_d.step()\n",
        "\n",
        "            losses['std(disc_mix)'].append(torch.std(disc_mix).item())\n",
        "            losses['loss_disc_mse'].append(loss_disc_mse.item())\n",
        "            losses['loss_disc_l2'].append(loss_disc_l2.item())\n",
        "            losses['loss_disc'].append(loss_disc.item())\n",
        "            losses['loss_ae_mse'].append(loss_ae_mse.item())\n",
        "            losses['loss_ae_l2'].append(loss_ae_l2.item())\n",
        "            losses['loss_ae'].append(loss_ae.item())\n",
        "\n",
        "            if it % 16000 == 0:\n",
        "                img = status()\n",
        "                \n",
        "                plt.figure(facecolor='w', figsize=(10,4))\n",
        "                for key in losses:\n",
        "                    total = len(losses[key])\n",
        "                    skip = 1 + (total // 1000)\n",
        "                    y = build_batches(losses[key], skip).mean(axis=-1)\n",
        "                    x = np.linspace(0, total, len(y))\n",
        "                    plt.plot(x, y, label=key, lw=0.5)\n",
        "                plt.legend(loc='upper right')\n",
        "                \n",
        "                clear_output(wait=True)\n",
        "                plt.show()\n",
        "                show_array(img * 255)\n",
        "                \n",
        "                speed = args['batch_size'] * it / (time.time() - start_time)\n",
        "                print(f'{epoch+1}/{args[\"epochs\"]}; {speed:.2f} samples/sec')\n",
        "\n",
        "            it += 1\n",
        "except KeyboardInterrupt:\n",
        "    pass"
      ],
      "execution_count": null,
      "outputs": [
        {
          "output_type": "display_data",
          "data": {
            "image/png": "[encoded data removed]",
            "text/plain": [
              "<Figure size 720x288 with 1 Axes>"
            ]
          },
          "metadata": {
            "tags": []
          }
        },
        {
          "output_type": "display_data",
          "data": {
            "image/png": "[encoded data removed]",
            "text/plain": [
              "<IPython.core.display.Image object>"
            ]
          },
          "metadata": {
            "tags": [],
            "image/png": {
              "width": 513,
              "height": 513
            }
          }
        },
        {
          "output_type": "stream",
          "text": [
            "731/1000; 1072.01 samples/sec\n"
          ],
          "name": "stdout"
        }
      ]
    },
    {
      "cell_type": "code",
      "metadata": {
        "id": "cVs6NqZRjper"
      },
      "source": [
        "plt.hist(disc_mix.data.cpu().numpy(), range=[0,0.5], bins=20)\n",
        "plt.show()\n",
        "print(disc_mix)"
      ],
      "execution_count": null,
      "outputs": []
    },
    {
      "cell_type": "code",
      "metadata": {
        "id": "cgfIIlcPjtPA",
        "outputId": "79b34c84-1d9c-49fa-bf53-55b88fee9962",
        "colab": {
          "base_uri": "https://localhost:8080/",
          "height": 265
        }
      },
      "source": [
        "z = encoder(data_batches)\n",
        "z = z.data.cpu().numpy().reshape(len(z), -1).T\n",
        "for dim in z:\n",
        "    plt.hist(dim, bins=12, alpha=0.1)\n",
        "plt.show()"
      ],
      "execution_count": null,
      "outputs": [
        {
          "output_type": "display_data",
          "data": {
            "image/png": "[encoded data removed]",
            "text/plain": [
              "<Figure size 432x288 with 1 Axes>"
            ]
          },
          "metadata": {
            "tags": [],
            "needs_background": "light"
          }
        }
      ]
    }
  ]
}
{
  "nbformat": 4,
  "nbformat_minor": 0,
  "metadata": {
    "colab": {
      "name": "Untitled7.ipynb",
      "provenance": [],
      "authorship_tag": "ABX9TyNll1mv2hSERlXQVU0H96GN",
      "include_colab_link": true
    },
    "kernelspec": {
      "name": "python3",
      "display_name": "Python 3"
    }
  },
  "cells": [
    {
      "cell_type": "markdown",
      "metadata": {
        "id": "view-in-github",
        "colab_type": "text"
      },
      "source": [
        "<a href=\"https://colab.research.google.com/github/zhaoheng001/colabtogithubdemo/blob/master/L-Shaped%20Method.ipynb\" target=\"_parent\"><img src=\"https://colab.research.google.com/assets/colab-badge.svg\" alt=\"Open In Colab\"/></a>"
      ]
    },
    {
      "cell_type": "code",
      "metadata": {
        "id": "3RoQUBzz6bxC",
        "colab_type": "code",
        "colab": {
          "base_uri": "https://localhost:8080/",
          "height": 612
        },
        "outputId": "b32bea8c-1ba1-46ee-f8c3-48576f7e4bd4"
      },
      "source": [
        "from cvxopt import matrix\n",
        "from cvxopt.modeling import variable\n",
        "from cvxopt.modeling import op\n",
        "v1_0 = variable()\n",
        "v1_1 = variable()\n",
        "v2_0 = variable()\n",
        "v2_1 = variable()\n",
        "v3_0 = variable()\n",
        "v3_1 = variable()\n",
        "v4_0 = variable()\n",
        "v4_1 = variable()\n",
        "v5_0 = variable()\n",
        "v5_1 = variable()\n",
        "v6_0 = variable()\n",
        "v6_1 = variable()\n",
        "\n",
        "y1 = variable()\n",
        "y2 = variable()\n",
        "c1 = ( v1_0 - v1_1 +3*y1 + 2*y2 <= 0 )\n",
        "c2 = ( v2_0 - v2_1 +2*y1 + 5*y2 <= 0 )\n",
        "c3 = ( v3_0 - v3_1 +y1 >=4.8 )\n",
        "c4 = ( v4_0 - v4_1 +y2 >=6.4 )\n",
        "c5 = ( v5_0 - v5_1 +y1 <=6 )\n",
        "c6 = ( v6_0 - v6_1 +y2 <=8 )\n",
        "c7 = ( v1_0 >= 0 )\n",
        "c8 = ( v2_0 >= 0 )\n",
        "c9 = ( v3_0 >= 0 )\n",
        "c10 = ( v4_0 >= 0 )\n",
        "c11 = ( v5_0 >= 0 )\n",
        "c12 = ( v6_0 >= 0 )\n",
        "c13 = ( v1_1 >= 0 )\n",
        "c14 = ( v2_1 >= 0 )\n",
        "c15 = ( v3_1 >= 0 )\n",
        "c16 = ( v4_1 >= 0 )\n",
        "c17 = ( v5_1 >= 0 )\n",
        "c18 = ( v6_1 >= 0 )\n",
        "c19 = ( y1 >= 0 )\n",
        "c20 = ( y2 >= 0 )\n",
        "\n",
        "lp1 = op(v1_0 + v1_1 + v2_0 + v2_1 + v3_0 + v3_1 + v4_0 + v4_1 + v5_0 + v5_1 + v6_0 + v6_1, [c1,c2,c3,c4,c5,c6,c7,c8,c9,c10,c11,c12,c13,c14,c15,c16,c17,c18,c19,c20])\n",
        "lp1.solve()\n",
        "lp1.status\n",
        "print(lp1.objective.value())\n",
        "print(y1.value)\n",
        "print(v3_0.value)\n",
        "print(v4_0.value)\n",
        "print(v5_0.value)\n",
        "print(v6_0.value)\n",
        "\n",
        "print(c1.multiplier.value)\n",
        "print(c2.multiplier.value)\n",
        "print(c3.multiplier.value)\n",
        "print(c4.multiplier.value)\n",
        "print(c5.multiplier.value)\n",
        "print(c6.multiplier.value)\n",
        "\n",
        "x1 = variable()\n",
        "x2 = variable()\n",
        "c21 = (3*y1 + 2*y2 <= 0)\n",
        "c22 = (2*y1 + 5*y2 <= 0)\n",
        "c23 = (y1 >=0)\n",
        "c23 = (y2 >=0)\n",
        "lp12 = op(-15*y1 - 12*y2, [c21,c22])\n",
        "lp12.solve()\n",
        "lp12.status\n",
        "print(lp12.objective.value())\n",
        "print(x.value)\n",
        "\n"
      ],
      "execution_count": 29,
      "outputs": [
        {
          "output_type": "stream",
          "text": [
            "     pcost       dcost       gap    pres   dres   k/t\n",
            " 0: -3.1086e-15 -2.8000e+00  1e+02  1e+00  3e+00  1e+00\n",
            " 1:  1.2753e+01  1.2421e+01  3e+01  3e-01  7e-01  7e-01\n",
            " 2:  1.1278e+01  1.1279e+01  1e+00  2e-02  4e-02  7e-02\n",
            " 3:  1.1201e+01  1.1201e+01  1e-02  2e-04  5e-04  7e-04\n",
            " 4:  1.1200e+01  1.1200e+01  1e-04  2e-06  5e-06  7e-06\n",
            " 5:  1.1200e+01  1.1200e+01  1e-06  2e-08  5e-08  7e-08\n",
            "Optimal solution found.\n",
            "[ 1.12e+01]\n",
            "\n",
            "[ 1.10e-08]\n",
            "\n",
            "[ 4.80e+00]\n",
            "\n",
            "[ 6.40e+00]\n",
            "\n",
            "[-1.16e-08]\n",
            "\n",
            "[-4.66e-08]\n",
            "\n",
            "[ 3.65e-01]\n",
            "\n",
            "[ 2.55e-01]\n",
            "\n",
            "[ 1.00e+00]\n",
            "\n",
            "[ 1.00e+00]\n",
            "\n",
            "[ 1.07e-08]\n",
            "\n",
            "[ 2.42e-08]\n",
            "\n",
            "Optimal solution found.\n",
            "[ 0.00e+00]\n",
            "\n"
          ],
          "name": "stdout"
        }
      ]
    }
  ]
}
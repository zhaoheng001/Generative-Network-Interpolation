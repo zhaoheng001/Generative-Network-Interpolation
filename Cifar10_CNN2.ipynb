{
  "nbformat": 4,
  "nbformat_minor": 0,
  "metadata": {
    "colab": {
      "name": "Cifar10_CNN2.ipynb",
      "version": "0.3.2",
      "provenance": [],
      "include_colab_link": true
    },
    "kernelspec": {
      "name": "python3",
      "display_name": "Python 3"
    },
    "accelerator": "GPU"
  },
  "cells": [
    {
      "cell_type": "markdown",
      "metadata": {
        "id": "view-in-github",
        "colab_type": "text"
      },
      "source": [
        "<a href=\"https://colab.research.google.com/github/zhaoheng001/colabtogithubdemo/blob/master/Cifar10_CNN2.ipynb\" target=\"_parent\"><img src=\"https://colab.research.google.com/assets/colab-badge.svg\" alt=\"Open In Colab\"/></a>"
      ]
    },
    {
      "metadata": {
        "id": "V2pRBoBtTTjB",
        "colab_type": "code",
        "colab": {
          "base_uri": "https://localhost:8080/",
          "height": 371
        },
        "outputId": "498e4832-90a3-4209-95ae-129fcf074ab7"
      },
      "cell_type": "code",
      "source": [
        "import time\n",
        "import keras\n",
        "import matplotlib.pyplot as plt\n",
        "from sklearn.metrics import classification_report, confusion_matrix\n",
        "import numpy as np\n",
        "from keras.datasets import cifar10\n",
        "from keras.preprocessing.image import ImageDataGenerator\n",
        "from keras.models import Sequential\n",
        "from keras.layers import Dense, Dropout, Flatten\n",
        "from keras.layers import Conv2D, MaxPooling2D, ZeroPadding2D, GlobalMaxPooling2D\n",
        "from keras.layers import Activation, Dense\n",
        "from keras.callbacks import ModelCheckpoint\n",
        "batch_size = 32 \n",
        "num_classes = 10\n",
        "epochs = 20\n",
        "data_augmentation = False\n",
        "\n",
        "from scipy.misc import toimage\n",
        "\n",
        "\n",
        "\n",
        "\n",
        "# The data, shuffled and split between train and test sets:\n",
        "(x_train, y_train), (x_test, y_test) = cifar10.load_data()\n",
        "\n",
        "print('x_train shape:', x_train.shape)\n",
        "print(x_train.shape[0], 'train samples')\n",
        "print(x_test.shape[0], 'test samples')\n",
        "\n",
        "plt.imshow(toimage(x_test[1]))\n",
        "#show image\n",
        "plt.show()"
      ],
      "execution_count": 7,
      "outputs": [
        {
          "output_type": "stream",
          "text": [
            "x_train shape: (50000, 32, 32, 3)\n",
            "50000 train samples\n",
            "10000 test samples\n"
          ],
          "name": "stdout"
        },
        {
          "output_type": "stream",
          "text": [
            "/usr/local/lib/python3.6/dist-packages/ipykernel_launcher.py:30: DeprecationWarning: `toimage` is deprecated!\n",
            "`toimage` is deprecated in SciPy 1.0.0, and will be removed in 1.2.0.\n",
            "Use Pillow's ``Image.fromarray`` directly instead.\n"
          ],
          "name": "stderr"
        },
        {
          "output_type": "display_data",
          "data": {
            "image/png": "[encoded data removed]",
            "text/plain": [
              "<Figure size 432x288 with 1 Axes>"
            ]
          },
          "metadata": {
            "tags": []
          }
        }
      ]
    },
    {
      "metadata": {
        "id": "2tVS113pTcoP",
        "colab_type": "code",
        "colab": {}
      },
      "cell_type": "code",
      "source": [
        "def plot_model_history(model_history):\n",
        "    fig, axs = plt.subplots(1,2,figsize=(15,5))\n",
        "    # summarize history for accuracy\n",
        "    axs[0].plot(range(1,len(model_history.history['acc'])+1),model_history.history['acc'])\n",
        "    axs[0].plot(range(1,len(model_history.history['val_acc'])+1),model_history.history['val_acc'])\n",
        "    axs[0].set_title('Model Accuracy')\n",
        "    axs[0].set_ylabel('Accuracy')\n",
        "    axs[0].set_xlabel('Epoch')\n",
        "    axs[0].set_xticks(np.arange(1,len(model_history.history['acc'])+1),len(model_history.history['acc'])/10)\n",
        "    axs[0].legend(['train', 'val'], loc='best')\n",
        "    # summarize history for loss\n",
        "    axs[1].plot(range(1,len(model_history.history['loss'])+1),model_history.history['loss'])\n",
        "    axs[1].plot(range(1,len(model_history.history['val_loss'])+1),model_history.history['val_loss'])\n",
        "    axs[1].set_title('Model Loss')\n",
        "    axs[1].set_ylabel('Loss')\n",
        "    axs[1].set_xlabel('Epoch')\n",
        "    axs[1].set_xticks(np.arange(1,len(model_history.history['loss'])+1),len(model_history.history['loss'])/10)\n",
        "    axs[1].legend(['train', 'val'], loc='best')\n",
        "    plt.show()\n",
        "\n",
        "def accuracy(x_test, y_test, model):\n",
        "    result = model.predict(x_test)\n",
        "    predicted_class = np.argmax(result, axis=1)\n",
        "    true_class = np.argmax(y_test, axis=1)\n",
        "    num_correct = np.sum(predicted_class == true_class) \n",
        "    accuracy = float(num_correct)/result.shape[0]\n",
        "    return (accuracy * 100)"
      ],
      "execution_count": 0,
      "outputs": []
    },
    {
      "metadata": {
        "id": "xksHXTv4TfBS",
        "colab_type": "code",
        "colab": {
          "base_uri": "https://localhost:8080/",
          "height": 1203
        },
        "outputId": "14ca0069-b0c0-4dd6-9cef-f2eb676b7231"
      },
      "cell_type": "code",
      "source": [
        "x_train = x_train.astype('float32')\n",
        "x_test = x_test.astype('float32')\n",
        "x_train /= 255\n",
        "x_test /= 255\n",
        "\n",
        "y_train_label = y_train\n",
        "y_test_label = y_test\n",
        "# Convert class vectors to binary class matrices.\n",
        "y_train = keras.utils.to_categorical(y_train, num_classes)\n",
        "y_test = keras.utils.to_categorical(y_test, num_classes)\n",
        "\n",
        "model = Sequential()\n",
        "\n",
        "model.add(Conv2D(16, (3, 3), padding='same',\n",
        "                                 input_shape=x_train.shape[1:]))\n",
        "model.add(Activation('relu'))\n",
        "\n",
        "model.add(MaxPooling2D(pool_size=(2, 2)))\n",
        "#model.add(Dropout(0.25))\n",
        "\n",
        "model.add(Conv2D(8, (3, 3), padding='same',\n",
        "                                 input_shape=x_train.shape[1:]))\n",
        "model.add(Activation('relu'))\n",
        "\n",
        "model.add(MaxPooling2D(pool_size=(2, 2)))\n",
        "#model.add(Dropout(0.25))\n",
        "model.add(Flatten())\n",
        "#model.add(Dense(200))\n",
        "#model.add(Activation('relu'))\n",
        "#model.add(Dropout(0.25))\n",
        "model.add(Dense(num_classes))\n",
        "model.add(Activation('softmax'))\n",
        "model.summary ()\n",
        "\n",
        "\n",
        "# initiate RMSprop optimizer\n",
        "opt = keras.optimizers.Adam(lr=0.0001)\n",
        "\n",
        "#checkpoint = ModelCheckpoint('best_model_simple.h5',  # model filename\n",
        "                             #monitor='val_loss', # quantity to monitor\n",
        "                             #verbose=0, # verbosity - 0 or 1\n",
        "                             #save_best_only= True, # The latest best model will not be overwritten\n",
        "                             #mode='auto') \n",
        "\n",
        "# Let's train the model using RMSprop\n",
        "model.compile(loss='categorical_crossentropy',\n",
        "                            optimizer=opt,\n",
        "                            metrics=['accuracy'])\n",
        "\n",
        "start = time.time()\n",
        "from keras.utils import plot_model\n",
        "plot_model(model, to_file='model.png')\n",
        "\n",
        "print(\"train____________\")\n",
        "model_details = model.fit(x_train,y_train,epochs=10,batch_size=128,validation_data = (x_test, y_test))\n",
        "\n",
        "end = time.time()\n",
        "plot_model_history(model_details)\n",
        "print(\"test_____________\")\n",
        "#loss_train,acc_train=model.evaluate(x_train,y_train)\n",
        "loss,acc=model.evaluate(x_test,y_test)"
      ],
      "execution_count": 9,
      "outputs": [
        {
          "output_type": "stream",
          "text": [
            "_________________________________________________________________\n",
            "Layer (type)                 Output Shape              Param #   \n",
            "=================================================================\n",
            "conv2d_3 (Conv2D)            (None, 32, 32, 16)        448       \n",
            "_________________________________________________________________\n",
            "activation_4 (Activation)    (None, 32, 32, 16)        0         \n",
            "_________________________________________________________________\n",
            "max_pooling2d_3 (MaxPooling2 (None, 16, 16, 16)        0         \n",
            "_________________________________________________________________\n",
            "conv2d_4 (Conv2D)            (None, 16, 16, 8)         1160      \n",
            "_________________________________________________________________\n",
            "activation_5 (Activation)    (None, 16, 16, 8)         0         \n",
            "_________________________________________________________________\n",
            "max_pooling2d_4 (MaxPooling2 (None, 8, 8, 8)           0         \n",
            "_________________________________________________________________\n",
            "flatten_2 (Flatten)          (None, 512)               0         \n",
            "_________________________________________________________________\n",
            "dense_2 (Dense)              (None, 10)                5130      \n",
            "_________________________________________________________________\n",
            "activation_6 (Activation)    (None, 10)                0         \n",
            "=================================================================\n",
            "Total params: 6,738\n",
            "Trainable params: 6,738\n",
            "Non-trainable params: 0\n",
            "_________________________________________________________________\n",
            "train____________\n",
            "Train on 50000 samples, validate on 10000 samples\n",
            "Epoch 1/10\n",
            "50000/50000 [==============================] - 3s 63us/step - loss: 2.1969 - acc: 0.1977 - val_loss: 2.0258 - val_acc: 0.2984\n",
            "Epoch 2/10\n",
            "50000/50000 [==============================] - 3s 59us/step - loss: 1.9401 - acc: 0.3259 - val_loss: 1.8575 - val_acc: 0.3612\n",
            "Epoch 3/10\n",
            "50000/50000 [==============================] - 3s 57us/step - loss: 1.8180 - acc: 0.3670 - val_loss: 1.7667 - val_acc: 0.3856\n",
            "Epoch 4/10\n",
            "50000/50000 [==============================] - 3s 57us/step - loss: 1.7425 - acc: 0.3894 - val_loss: 1.7064 - val_acc: 0.3995\n",
            "Epoch 5/10\n",
            "50000/50000 [==============================] - 3s 56us/step - loss: 1.6936 - acc: 0.4030 - val_loss: 1.6646 - val_acc: 0.4100\n",
            "Epoch 6/10\n",
            "50000/50000 [==============================] - 3s 57us/step - loss: 1.6573 - acc: 0.4152 - val_loss: 1.6359 - val_acc: 0.4242\n",
            "Epoch 7/10\n",
            "50000/50000 [==============================] - 3s 56us/step - loss: 1.6299 - acc: 0.4226 - val_loss: 1.6096 - val_acc: 0.4323\n",
            "Epoch 8/10\n",
            "50000/50000 [==============================] - 3s 57us/step - loss: 1.6073 - acc: 0.4311 - val_loss: 1.5916 - val_acc: 0.4372\n",
            "Epoch 9/10\n",
            "50000/50000 [==============================] - 3s 56us/step - loss: 1.5872 - acc: 0.4375 - val_loss: 1.5730 - val_acc: 0.4409\n",
            "Epoch 10/10\n",
            "50000/50000 [==============================] - 3s 56us/step - loss: 1.5692 - acc: 0.4441 - val_loss: 1.5549 - val_acc: 0.4483\n"
          ],
          "name": "stdout"
        },
        {
          "output_type": "display_data",
          "data": {
            "image/png": "[encoded data removed]",
            "text/plain": [
              "<Figure size 1080x360 with 2 Axes>"
            ]
          },
          "metadata": {
            "tags": []
          }
        },
        {
          "output_type": "stream",
          "text": [
            "test_____________\n",
            "10000/10000 [==============================] - 1s 63us/step\n"
          ],
          "name": "stdout"
        }
      ]
    },
    {
      "metadata": {
        "id": "nqWrc_kXTqLf",
        "colab_type": "code",
        "colab": {
          "base_uri": "https://localhost:8080/",
          "height": 303
        },
        "outputId": "a186874b-cd3e-4c51-cb02-c8e2bfd4d7b9"
      },
      "cell_type": "code",
      "source": [
        "#print one image\n",
        "\n",
        "cifar_classes = ['airplane', 'automobile', 'bird', 'cat', 'deer', 'dog', 'frog', 'horse', 'ship', 'truck']\n",
        "image_index = 9\n",
        "img = x_test[0]\n",
        "plt.imshow(np.transpose(np.reshape(img,(3, 32,32)), (1,2,0)))\n",
        "plt.show()\n",
        "#print('Corresponding classes for the labels: ' + str([cifar_classes[y_test[0]]]))\n",
        "print('Corresponding classes for the labels: ' + str([cifar_classes[np.argmax(y_test[image_index])]]))\n",
        "print(np.argmax(y_test[image_index]))\n",
        "#plt.imshow(x_test[1].reshape(32,32,3),cmap='Greys')"
      ],
      "execution_count": 10,
      "outputs": [
        {
          "output_type": "display_data",
          "data": {
            "image/png": "[encoded data removed]",
            "text/plain": [
              "<Figure size 432x288 with 1 Axes>"
            ]
          },
          "metadata": {
            "tags": []
          }
        },
        {
          "output_type": "stream",
          "text": [
            "Corresponding classes for the labels: ['automobile']\n",
            "1\n"
          ],
          "name": "stdout"
        }
      ]
    },
    {
      "metadata": {
        "id": "SlqwzZSlWF3_",
        "colab_type": "code",
        "colab": {}
      },
      "cell_type": "code",
      "source": [
        "from keras import backend as K\n",
        "K.set_image_dim_ordering('th')\n",
        "def get_featuremaps(model, layer_idx, X_batch):\n",
        "\tget_activations = K.function([model.layers[0].input, K.learning_phase()],[model.layers[layer_idx].output,])\n",
        "\tactivations = get_activations([X_batch,0])\n",
        "\treturn activations\n",
        "layer_num=3\n",
        "filter_num=0\n",
        "\n",
        "#save intermedium\n",
        "activations = get_featuremaps(model, int(layer_num),x_test)#image number#x_test[image_index:]\n",
        "print (np.shape(activations))\n",
        "activation_all =  activations[0]\n",
        "print(np.shape(activation_all))\n",
        "activation_all_flatten = activation_all.reshape(10000,2048)\n",
        "print(np.shape(activation_all_flatten))\n",
        "print(activation_all_flatten[0])\n",
        "print(max(activation_all_flatten[0]))\n",
        "#np.savetxt('/Users/zhhh/Desktop/data_mining/HW3/intermedium.csv', activation_all_flatten[0], delimiter = ',')\n",
        "\n",
        "\n",
        "\n",
        "\n",
        "X = activation_all_flatten - np.mean(activation_all_flatten, axis=0) \n",
        "Cov_X = np.cov(X.T) \n",
        "eigenvalues, eigenvectors = np.linalg.eig(Cov_X) \n",
        "Eig_decrease = sorted(eigenvalues, reverse=True) \n",
        "Eig_decrease = Eig_decrease/sum(Eig_decrease) \n",
        "#plt.plot(Eig_decrease) \n",
        "\n",
        "plt.title('percentage of first n eigenvalues')\n",
        "plt.plot(np.cumsum(Eig_decrease)) \n",
        "plt.xlabel(\"n\")\n",
        "plt.ylabel(\"percentage\")\n",
        "\n",
        "\n",
        "\n",
        "\n",
        "\n",
        "\n",
        "\n",
        "\n",
        "feature_maps = activations[0][0] \n",
        "print (np.shape(feature_maps))\n",
        "\n",
        "if K.image_dim_ordering()=='th':\n",
        "\t feature_maps=np.rollaxis((np.rollaxis(feature_maps,2,0)),2,0)\n",
        "print (feature_maps.shape)\n",
        "\n",
        "\n",
        "fig=plt.figure(figsize=(16,16))\n",
        "plt.imshow(feature_maps[:,:,filter_num],cmap='gray')\n",
        "plt.savefig(\"featuremaps-layer-{}\".format(layer_num) + \"-filternum-{}\".format(filter_num)+'.jpg')\n",
        "\n",
        "num_of_featuremaps=feature_maps.shape[2]\n",
        "fig=plt.figure(figsize=(16,16))\t\n",
        "plt.title(\"featuremaps-layer-{}\".format(layer_num))\n",
        "subplot_num=int(np.ceil(np.sqrt(num_of_featuremaps)))\n",
        "for i in range(int(num_of_featuremaps)):\n",
        "\tax = fig.add_subplot(subplot_num, subplot_num, i+1)\n",
        "\t#ax.imshow(output_image[0,:,:,i],interpolation='nearest' ) #to see the first filter\n",
        "\tax.imshow(feature_maps[:,:,i],cmap='gray')\n",
        "\tplt.xticks([])\n",
        "\tplt.yticks([])\n",
        "\tplt.tight_layout()\n",
        "plt.show()\n",
        "fig.savefig(\"featuremaps-layer-{}\".format(layer_num) + '.jpg')"
      ],
      "execution_count": 0,
      "outputs": []
    }
  ]
}
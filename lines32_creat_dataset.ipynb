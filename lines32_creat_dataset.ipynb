{
  "nbformat": 4,
  "nbformat_minor": 0,
  "metadata": {
    "colab": {
      "name": "lines32_creat_dataset.ipynb",
      "provenance": [],
      "collapsed_sections": [],
      "authorship_tag": "ABX9TyOFKQwO3fv89imQ1RDAgxQZ",
      "include_colab_link": true
    },
    "kernelspec": {
      "name": "python3",
      "display_name": "Python 3"
    }
  },
  "cells": [
    {
      "cell_type": "markdown",
      "metadata": {
        "id": "view-in-github",
        "colab_type": "text"
      },
      "source": [
        "<a href=\"https://colab.research.google.com/github/zhaoheng001/colabtogithubdemo/blob/master/lines32_creat_dataset.ipynb\" target=\"_parent\"><img src=\"https://colab.research.google.com/assets/colab-badge.svg\" alt=\"Open In Colab\"/></a>"
      ]
    },
    {
      "cell_type": "code",
      "metadata": {
        "id": "tQnoNCd8EcVN",
        "colab_type": "code",
        "colab": {}
      },
      "source": [
        "from __future__ import absolute_import\n",
        "from __future__ import division\n",
        "from __future__ import print_function\n",
        "\n",
        "import functools\n",
        "import glob\n",
        "import math\n",
        "import os\n",
        "import random\n",
        "\n",
        "import numpy as np\n",
        "import tensorflow as tf"
      ],
      "execution_count": null,
      "outputs": []
    },
    {
      "cell_type": "code",
      "metadata": {
        "id": "QAeGzfteEihL",
        "colab_type": "code",
        "colab": {}
      },
      "source": [
        "def draw_line(angle, height, width, w=2.):\n",
        "    m = np.zeros((height, width, 1))\n",
        "    x0 = height*0.5\n",
        "    y0 = width*0.5\n",
        "    x1 = x0 + (x0 - 1) * math.cos(-angle)\n",
        "    y1 = y0 + (y0 - 1) * math.sin(-angle)\n",
        "    flip = False\n",
        "    if abs(y0 - y1) < abs(x0 - x1):\n",
        "        x0, x1, y0, y1 = y0, y1, x0, x1\n",
        "        flip = True\n",
        "    if y1 < y0:\n",
        "        x0, x1, y0, y1 = x1, x0, y1, y0\n",
        "    x0, x1 = x0 - w / 2, x1 - w / 2\n",
        "    dx = x1 - x0\n",
        "    dy = y1 - y0\n",
        "    ds = dx / dy if dy != 0 else 0\n",
        "    yi = int(math.ceil(y0)), int(y1)\n",
        "    points = []\n",
        "    for y in range(int(y0), int(math.ceil(y1))):\n",
        "        if y < yi[0]:\n",
        "            weight = yi[0] - y0\n",
        "        elif y > yi[1]:\n",
        "            weight = y1 - yi[1]\n",
        "        else:\n",
        "            weight = 1\n",
        "        xs = x0 + (y - y0 - .5) * ds\n",
        "        xe = xs + w\n",
        "        xi = int(math.ceil(xs)), int(xe)\n",
        "        if xi[0] != xi[1]:\n",
        "            points.append((y, slice(xi[0], xi[1]), weight))\n",
        "        if xi[0] != xs:\n",
        "            points.append((y, int(xs), weight * (xi[0] - xs)))\n",
        "        if xi[1] != xe:\n",
        "            points.append((y, xi[1], weight * (xe - xi[1])))\n",
        "    if flip:\n",
        "        points = [(x, y, z) for y, x, z in points]\n",
        "    for y, x, z in points:\n",
        "        m[y, x] += 2 * z\n",
        "    m -= 1\n",
        "    m = m.clip(-1, 1)\n",
        "    return m"
      ],
      "execution_count": null,
      "outputs": []
    },
    {
      "cell_type": "code",
      "metadata": {
        "id": "rjbt8aIWEn5t",
        "colab_type": "code",
        "colab": {
          "base_uri": "https://localhost:8080/",
          "height": 283
        },
        "outputId": "4251987b-3f77-487a-fae5-8969c8c922c2"
      },
      "source": [
        "#show one example\n",
        "x = draw_line(2, 32, 32)\n",
        "print(x.shape)\n",
        "x = np.squeeze(x)\n",
        "x.shape\n",
        "from matplotlib import pyplot as plt\n",
        "plt.imshow(x, interpolation='nearest')\n",
        "plt.show()"
      ],
      "execution_count": null,
      "outputs": [
        {
          "output_type": "stream",
          "text": [
            "(32, 32, 1)\n"
          ],
          "name": "stdout"
        },
        {
          "output_type": "display_data",
          "data": {
            "image/png": "[encoded data removed]",
            "text/plain": [
              "<Figure size 432x288 with 1 Axes>"
            ]
          },
          "metadata": {
            "tags": [],
            "needs_background": "light"
          }
        }
      ]
    },
    {
      "cell_type": "code",
      "metadata": {
        "id": "v-nCxU5TNdm8",
        "colab_type": "code",
        "colab": {
          "base_uri": "https://localhost:8080/",
          "height": 34
        },
        "outputId": "59d32d7a-a16f-40c3-8b71-8acad7abac9f"
      },
      "source": [
        "def creat_dataset(num_data):\n",
        "  dataset = np.zeros((num_data,32,32))\n",
        "  for i in range(num_data):\n",
        "    angle = 2 * random.random() * math.pi\n",
        "    m = draw_line(angle, 32, 32)\n",
        "    m = np.squeeze(m)\n",
        "    dataset[i] = m\n",
        "  return dataset\n",
        "n_dataset = 5000\n",
        "dataset_train = creat_dataset(n_dataset)\n",
        "print(dataset_train.shape)"
      ],
      "execution_count": null,
      "outputs": [
        {
          "output_type": "stream",
          "text": [
            "(5000, 32, 32)\n"
          ],
          "name": "stdout"
        }
      ]
    },
    {
      "cell_type": "code",
      "metadata": {
        "id": "Fh2CDk22jFKs",
        "colab_type": "code",
        "colab": {
          "base_uri": "https://localhost:8080/",
          "height": 51
        },
        "outputId": "9cd2d83c-6115-46c8-99b3-bed689bb0387"
      },
      "source": [
        "import os\n",
        "from google.colab import drive\n",
        "#mount google drive\n",
        "drive.mount('/content/drive')\n",
        "path = \"/content/drive/My Drive/lines32\"\n",
        "os.chdir(path)\n",
        "os.listdir(path)"
      ],
      "execution_count": null,
      "outputs": [
        {
          "output_type": "stream",
          "text": [
            "Drive already mounted at /content/drive; to attempt to forcibly remount, call drive.mount(\"/content/drive\", force_remount=True).\n"
          ],
          "name": "stdout"
        },
        {
          "output_type": "execute_result",
          "data": {
            "text/plain": [
              "['0.jpg', '2.jpg', '3.jpg', '4.jpg', '.ipynb_checkpoints']"
            ]
          },
          "metadata": {
            "tags": []
          },
          "execution_count": 82
        }
      ]
    },
    {
      "cell_type": "code",
      "metadata": {
        "id": "bdJi-wLRe-2v",
        "colab_type": "code",
        "colab": {}
      },
      "source": [
        "#save 5000 lines image\n",
        "import imageio\n",
        "import skimage.io as io\n",
        "for i in range(n_dataset):\n",
        "  im = dataset_train[i]\n",
        "  im = np.array(im)\n",
        "  imageio.imwrite(np.str(i)+'.jpg',im) #save\n",
        "  #io.imsave(content/sample_data/lines32+np.str(i)+'.jpg',im)\n",
        "\n",
        "im = dataset_train[1]\n",
        "print(im.shape)\n",
        "im = np.array(im)\n",
        "#print(im)\n",
        "\n",
        "#creat grey scale image\n",
        "#imageio.imwrite('im.jpg', im)\n",
        "\n",
        "\n",
        "from matplotlib import pyplot as plt\n",
        "plt.imshow(im, interpolation='nearest')\n",
        "plt.show()"
      ],
      "execution_count": null,
      "outputs": []
    },
    {
      "cell_type": "code",
      "metadata": {
        "id": "4Yi-9p4uOxIo",
        "colab_type": "code",
        "colab": {}
      },
      "source": [
        "def input_lines(batch_size, size=(32, 32, 1), limit=None):\n",
        "    h, w, c = size\n",
        "\n",
        "    def gen():\n",
        "        count = 0\n",
        "        while limit is None or count < limit:\n",
        "            angle = 2 * random.random() * math.pi\n",
        "            m = draw_line(angle, h, w)\n",
        "            label = int(10 * angle / (2 * math.pi - 1e-6))\n",
        "            count += 1\n",
        "            yield m, label\n",
        "\n",
        "    ds = tf.data.Dataset.from_generator(gen, (tf.float32, tf.int64),\n",
        "                                        (size, tuple()))\n",
        "    ds = ds.map(lambda x, y: dict(x=x, label=y))\n",
        "    ds = ds.batch(batch_size)\n",
        "    return ds, size[0], size[1], size[2]"
      ],
      "execution_count": null,
      "outputs": []
    },
    {
      "cell_type": "code",
      "metadata": {
        "id": "FZy5JUiHXwOI",
        "colab_type": "code",
        "colab": {}
      },
      "source": [
        ""
      ],
      "execution_count": null,
      "outputs": []
    },
    {
      "cell_type": "code",
      "metadata": {
        "id": "3FF9H1GOFcGi",
        "colab_type": "code",
        "colab": {
          "base_uri": "https://localhost:8080/",
          "height": 85
        },
        "outputId": "c5528bd6-ceb8-43b4-9004-1dcff5a10776"
      },
      "source": [
        ""
      ],
      "execution_count": null,
      "outputs": [
        {
          "output_type": "execute_result",
          "data": {
            "text/plain": [
              "(<BatchDataset shapes: {x: (None, 32, 32, 1), label: (None,)}, types: {x: tf.float32, label: tf.int64}>,\n",
              " 32,\n",
              " 32,\n",
              " 1)"
            ]
          },
          "metadata": {
            "tags": []
          },
          "execution_count": 18
        }
      ]
    }
  ]
}